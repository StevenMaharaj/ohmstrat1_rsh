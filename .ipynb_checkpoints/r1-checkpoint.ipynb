{
 "cells": [
  {
   "cell_type": "code",
   "execution_count": 3,
   "id": "6a264bdf-c625-4eb2-bcb2-024d039b836c",
   "metadata": {},
   "outputs": [],
   "source": [
    "import pandas as pd"
   ]
  },
  {
   "cell_type": "code",
   "execution_count": 1,
   "id": "325d2761-380d-4373-8599-334eeda9da2c",
   "metadata": {},
   "outputs": [
    {
     "name": "stdout",
     "output_type": "stream",
     "text": [
      "     Unnamed: 0       name  quanto_multiplier  mark_price  order_size_min  \\\n",
      "20          212   FIL_USDT              0.010     7.79900               1   \n",
      "102          52   BNB_USDT              0.001   395.95000               1   \n",
      "174         268   EOS_USDT              1.000     0.83200               1   \n",
      "189         309  DOGE_USDT             10.000     0.09613               1   \n",
      "\n",
      "     value_usd  \n",
      "20     0.07799  \n",
      "102    0.39595  \n",
      "174    0.83200  \n",
      "189    0.96130  \n"
     ]
    }
   ],
   "source": [
    "import pandas as pd\n",
    "\n",
    "df = pd.read_csv('./sym_table.csv')\n",
    "# assets = [\"GALA\",\"CAKE\",\"SHIB\",\"DASH\",\"BNB\",\"ICP\"]\n",
    "assets = [\"BTC\",\"ETH\",\"BNB\",\"ADA\",\"XRP\",\"DOGE\",\"DOT\",\"UNI\",\"LTC\",\"LINK\",\"BCH\",\"XLM\",\"FIL\",\"TRX\",\"EOS\"]\n",
    "\n",
    "symbols = map(lambda x: x + \"_USDT\", assets)\n",
    "\n",
    "\n",
    "df = df[df['name'].isin(symbols)]\n",
    "\n",
    "\n",
    "# print(df)\n",
    "\n",
    "df_filtered = df[df['value_usd'] < 1.0]\n",
    "print(df_filtered)\n"
   ]
  },
  {
   "cell_type": "code",
   "execution_count": null,
   "id": "a358badf-2863-4ec5-a3b4-01575e0be6e1",
   "metadata": {},
   "outputs": [],
   "source": []
  },
  {
   "cell_type": "code",
   "execution_count": null,
   "id": "5cc5e1c8-c018-4944-90ae-9a6c850d3683",
   "metadata": {},
   "outputs": [],
   "source": []
  },
  {
   "cell_type": "code",
   "execution_count": null,
   "id": "32476352-f6e8-4a49-9a0d-f63456f62c2a",
   "metadata": {},
   "outputs": [],
   "source": []
  }
 ],
 "metadata": {
  "kernelspec": {
   "display_name": "Python 3 (ipykernel)",
   "language": "python",
   "name": "python3"
  },
  "language_info": {
   "codemirror_mode": {
    "name": "ipython",
    "version": 3
   },
   "file_extension": ".py",
   "mimetype": "text/x-python",
   "name": "python",
   "nbconvert_exporter": "python",
   "pygments_lexer": "ipython3",
   "version": "3.11.3"
  }
 },
 "nbformat": 4,
 "nbformat_minor": 5
}
