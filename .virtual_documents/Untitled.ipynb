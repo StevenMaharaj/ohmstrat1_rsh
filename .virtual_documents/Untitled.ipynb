import pandas as pd


import pandas as pd

df = pd.read_csv('./sym_table.csv')
# assets = ["GALA","CAKE","SHIB","DASH","BNB","ICP"]
assets = ["BTC","ETH","BNB","ADA","XRP","DOGE","DOT","UNI","LTC","LINK","BCH","XLM","FIL","TRX","EOS"]

symbols = map(lambda x: x + "_USDT", assets)


df = df[df['name'].isin(symbols)]


# print(df)

df_filtered = df[df['value_usd'] < 1.0]
print(df_filtered)










